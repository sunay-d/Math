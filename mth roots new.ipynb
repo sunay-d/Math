{
 "cells": [
  {
   "cell_type": "code",
   "execution_count": 1,
   "metadata": {},
   "outputs": [],
   "source": [
    "# Mth Roots of Nilpotent Matrices - Semra Öztürk \n",
    "import numpy as np\n",
    "from sympy import Matrix"
   ]
  },
  {
   "cell_type": "code",
   "execution_count": 2,
   "metadata": {},
   "outputs": [],
   "source": [
    "def CoefMatrix(dim, root):\n",
    "    l1=[i for i in range(1,root+1)]\n",
    "    l2=[i for i in range(root-1,0,-1)]\n",
    "    l=l1+l2\n",
    "    k=[]\n",
    "    for i in range(1,dim*root+1):\n",
    "        d={i:0 for i in range(1,dim*root+1)}\n",
    "        for j in range(1,dim*root+1):\n",
    "            if (i-1)*root<j<(i-1)*root+len(l)+1:\n",
    "                d[j]=l[j-(i-1)*root-1]\n",
    "        k.append([d[i] for i in d])\n",
    "        m=np.array(k)\n",
    "    return m"
   ]
  },
  {
   "cell_type": "code",
   "execution_count": 3,
   "metadata": {},
   "outputs": [
    {
     "name": "stdout",
     "output_type": "stream",
     "text": [
      "What is the size of the largest Jordan block?2\n",
      "Please write how many Jordan blocks are there in each size from 1 to 2. 0,1\n",
      "Does matrix A has a root of degree x? x is 2\n"
     ]
    }
   ],
   "source": [
    "while True:\n",
    "    try:\n",
    "        nilpotency = int(input(\"What is the size of the largest Jordan block?\"))\n",
    "        a = [int(i) for i in input(\"Please write how many Jordan blocks are there in each size from 1 to {}. \".format(nilpotency)).split(\",\")]\n",
    "        root = int(input(\"Does matrix A has a root of degree x? x is \"))\n",
    "        break\n",
    "    except:\n",
    "        print(\"Input is not in the correct format.\")\n",
    "        continue"
   ]
  },
  {
   "cell_type": "code",
   "execution_count": 4,
   "metadata": {},
   "outputs": [],
   "source": [
    "A = Matrix(a+[0 for i in range(nilpotency+1,nilpotency*root+1)])\n",
    "M = Matrix(CoefMatrix(nilpotency,root))"
   ]
  },
  {
   "cell_type": "code",
   "execution_count": 5,
   "metadata": {},
   "outputs": [],
   "source": [
    "try:\n",
    "    B=M.gauss_jordan_solve(A)\n",
    "except np.linalg.LinAlgError:\n",
    "    print(\"Matrix A has no root of degree {}.\".format(root))\n",
    "    "
   ]
  }
 ],
 "metadata": {
  "kernelspec": {
   "display_name": "Python 3",
   "language": "python",
   "name": "python3"
  },
  "language_info": {
   "codemirror_mode": {
    "name": "ipython",
    "version": 3
   },
   "file_extension": ".py",
   "mimetype": "text/x-python",
   "name": "python",
   "nbconvert_exporter": "python",
   "pygments_lexer": "ipython3",
   "version": "3.8.5"
  }
 },
 "nbformat": 4,
 "nbformat_minor": 4
}
